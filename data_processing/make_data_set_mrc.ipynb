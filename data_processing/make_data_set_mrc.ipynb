{
 "cells": [
  {
   "cell_type": "code",
   "execution_count": 22,
   "metadata": {},
   "outputs": [],
   "source": [
    "from tqdm import tqdm\n",
    "\n",
    "def create_example(all_data):\n",
    "    all_result = []\n",
    "    for data in tqdm(all_data):\n",
    "        data_id = data[\"_id\"]\n",
    "        Question = data[\"question\"]\n",
    "        answer = data[\"answer\"]\n",
    "        context = data[\"context\"]\n",
    "        supporting_facts = data[\"supporting_facts\"]\n",
    "        support_dic = {}\n",
    "        for sup_sent in supporting_facts:\n",
    "            title = sup_sent[0]  # supporting fact의 제목\n",
    "            set_num = sup_sent[1]  # 문장번호\n",
    "            if title not in support_dic.keys():\n",
    "                support_dic[title] = []\n",
    "            support_dic[title].append(set_num)\n",
    "        \n",
    "        supporting_num_list = []\n",
    "        sent_list = []\n",
    "        sentences = \"\"\n",
    "        sent_num = 1\n",
    "        for index, j in enumerate(context):\n",
    "            title = j[0]\n",
    "            sent_list.append(title.strip()+ \".\")\n",
    "            sent_num += 1\n",
    "            \n",
    "            if title in support_dic.keys():\n",
    "                for i in support_dic[title]:\n",
    "                    supporting_num_list.append(sent_num+ i )\n",
    "    \n",
    "            if sentences == \"\":\n",
    "                sentences = title + \". \"\n",
    "            else:\n",
    "                sentences = sentences + \" \" + title + \". \"\n",
    "            for sent in j[1]:\n",
    "                sentences = sentences + sent\n",
    "                sent_list.append(sent.strip())\n",
    "                sent_num += 1\n",
    "            \n",
    "            assert (sent_num -1) == len(sent_list)\n",
    "            \n",
    "        result = {}\n",
    "        result[\"_id\"] = data_id\n",
    "        result[\"question\"] = Question\n",
    "        result[\"document\"] = sentences\n",
    "        result[\"sent\"] = sent_list\n",
    "        result[\"supporting_num\"] = supporting_num_list\n",
    "        result[\"output\"] = answer\n",
    "        \n",
    "\n",
    "        all_result.append(result)\n",
    "\n",
    "    return all_result\n",
    "    "
   ]
  },
  {
   "cell_type": "code",
   "execution_count": 23,
   "metadata": {},
   "outputs": [
    {
     "name": "stderr",
     "output_type": "stream",
     "text": [
      "100%|██████████| 7405/7405 [00:00<00:00, 22717.28it/s]\n"
     ]
    }
   ],
   "source": [
    "import json\n",
    "# file_path = \"../data/origin/hotpot_train_v1.1_re.json\"\n",
    "file_path = \"../data/origin/hotpot_dev.json\"\n",
    "with open(file_path, \"r\", encoding=\"utf-8\") as file:\n",
    "    dev_data = json.load(file)\n",
    "\n",
    "input_data = create_example(dev_data)"
   ]
  },
  {
   "cell_type": "code",
   "execution_count": 24,
   "metadata": {},
   "outputs": [],
   "source": [
    "with open(\"../data/1029data/hotpot_dev_supporting.json\", \"w\", encoding=\"utf-8\") as f:\n",
    "    json.dump(input_data, f, ensure_ascii=False, indent=4)"
   ]
  },
  {
   "cell_type": "code",
   "execution_count": 4,
   "metadata": {},
   "outputs": [
    {
     "name": "stderr",
     "output_type": "stream",
     "text": [
      "100%|██████████| 90447/90447 [03:55<00:00, 383.31it/s]\n"
     ]
    }
   ],
   "source": [
    "from tqdm import tqdm\n",
    "all_len = []\n",
    "all_result = []\n",
    "\n",
    "for input_data_ in tqdm(input_data):\n",
    "    messages = [\n",
    "        {\"role\": \"system\", \"content\": input_data_[\"question\"]}, \n",
    "        {\"role\": \"user\", \"content\": input_data_[\"document\"]},\n",
    "        {\"role\":\"assistant\", \"content\": input_data_[\"output\"]},\n",
    "    ]\n",
    "    count = len(tokenizer.apply_chat_template(messages))\n",
    "    if count <= 2044:\n",
    "        all_result.append(input_data_)\n",
    "    all_len.append(count)"
   ]
  },
  {
   "cell_type": "code",
   "execution_count": 5,
   "metadata": {},
   "outputs": [
    {
     "name": "stdout",
     "output_type": "stream",
     "text": [
      "90447\n",
      "86434\n"
     ]
    }
   ],
   "source": [
    "print(len(input_data))\n",
    "print(len(all_result))"
   ]
  },
  {
   "cell_type": "code",
   "execution_count": 6,
   "metadata": {},
   "outputs": [],
   "source": [
    "with open(\"../data/1008data/hotpot_train.json\", \"w\", encoding=\"utf-8\") as f:\n",
    "    json.dump(all_result, f, ensure_ascii=False, indent=4)"
   ]
  },
  {
   "cell_type": "code",
   "execution_count": 7,
   "metadata": {},
   "outputs": [
    {
     "name": "stderr",
     "output_type": "stream",
     "text": [
      "100%|██████████| 7405/7405 [00:18<00:00, 405.87it/s]"
     ]
    },
    {
     "name": "stdout",
     "output_type": "stream",
     "text": [
      "668\n"
     ]
    },
    {
     "name": "stderr",
     "output_type": "stream",
     "text": [
      "\n"
     ]
    }
   ],
   "source": [
    "from tqdm import tqdm\n",
    "all_len = []\n",
    "all_result = []\n",
    "over_num = 0\n",
    "for input_data_ in tqdm(input_data):\n",
    "    text = input_data_[\"all_text\"]\n",
    "    count = len(tokenizer(text)[\"input_ids\"])\n",
    "    if count <= 2048:\n",
    "        all_result.append(input_data_)\n",
    "    else:\n",
    "        over_len = count - 2048\n",
    "        input_data_['text'] = input_data_['text'][:over_len]\n",
    "        over_num +=1\n",
    "    # all_len.append(len(tokenizer(text)[\"input_ids\"]))\n",
    "print(over_num)"
   ]
  },
  {
   "cell_type": "code",
   "execution_count": 8,
   "metadata": {},
   "outputs": [
    {
     "name": "stderr",
     "output_type": "stream",
     "text": [
      "100%|██████████| 7405/7405 [00:00<00:00, 1753249.85it/s]\n"
     ]
    }
   ],
   "source": [
    "for input_data_ in tqdm(input_data):\n",
    "    del input_data_[\"all_text\"]"
   ]
  },
  {
   "cell_type": "code",
   "execution_count": 10,
   "metadata": {},
   "outputs": [],
   "source": [
    "with open(\"../data/qwen_hotpot_test_data.json\", \"w\", encoding=\"utf-8\") as f:\n",
    "    json.dump(all_result, f, ensure_ascii=False, indent=4)"
   ]
  },
  {
   "cell_type": "code",
   "execution_count": null,
   "metadata": {},
   "outputs": [],
   "source": []
  },
  {
   "cell_type": "code",
   "execution_count": 37,
   "metadata": {},
   "outputs": [
    {
     "name": "stderr",
     "output_type": "stream",
     "text": [
      "100%|██████████| 90447/90447 [04:12<00:00, 357.70it/s]\n"
     ]
    }
   ],
   "source": [
    "from tqdm import tqdm\n",
    "all_len = []\n",
    "all_result = []\n",
    "\n",
    "for input_data_ in tqdm(input_data):\n",
    "    text = input_data_[\"text\"]\n",
    "    if len(tokenizer(text)[\"input_ids\"]) <= 2048:\n",
    "        # data[\"text\"] = data[\"text\"]\n",
    "        all_result.append(input_data_)\n",
    "    # all_len.append(len(tokenizer(text)[\"input_ids\"]))"
   ]
  },
  {
   "cell_type": "code",
   "execution_count": 38,
   "metadata": {},
   "outputs": [],
   "source": [
    "with open(\"data/qwen_hotpot_train_data.json\", \"w\", encoding=\"utf-8\") as f:\n",
    "    json.dump(all_result, f, ensure_ascii=False, indent=4)"
   ]
  },
  {
   "cell_type": "code",
   "execution_count": 16,
   "metadata": {},
   "outputs": [],
   "source": [
    "with open(\"data/teddst_dev.json\", \"w\", encoding=\"utf-8\") as f:\n",
    "    json.dump(input_data, f, ensure_ascii=False, indent=4)"
   ]
  },
  {
   "cell_type": "code",
   "execution_count": 7,
   "metadata": {},
   "outputs": [
    {
     "name": "stdout",
     "output_type": "stream",
     "text": [
      "**Answer**: yes\n",
      "**Supporting Sentences**: [4] Scott Derrickson (born July 16, 1966) is an American director, screenwriter and producer.\n",
      "[17] Edward Davis Wood Jr. (October 10, 1924 – December 10, 1978) was an American filmmaker, actor, writer, producer, and director.\n",
      "\n"
     ]
    }
   ],
   "source": [
    "print(input_data[0][\"label\"])"
   ]
  },
  {
   "cell_type": "code",
   "execution_count": 16,
   "metadata": {},
   "outputs": [
    {
     "name": "stdout",
     "output_type": "stream",
     "text": [
      "6539\n"
     ]
    }
   ],
   "source": [
    "count = len(list(filter(lambda x: x < 2048, all_len)))\n",
    "print(count)"
   ]
  },
  {
   "cell_type": "code",
   "execution_count": null,
   "metadata": {},
   "outputs": [],
   "source": []
  }
 ],
 "metadata": {
  "kernelspec": {
   "display_name": ".venv",
   "language": "python",
   "name": "python3"
  },
  "language_info": {
   "codemirror_mode": {
    "name": "ipython",
    "version": 3
   },
   "file_extension": ".py",
   "mimetype": "text/x-python",
   "name": "python",
   "nbconvert_exporter": "python",
   "pygments_lexer": "ipython3",
   "version": "3.8.10"
  }
 },
 "nbformat": 4,
 "nbformat_minor": 2
}
